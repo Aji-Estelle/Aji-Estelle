{
  "nbformat": 4,
  "nbformat_minor": 0,
  "metadata": {
    "colab": {
      "provenance": [],
      "authorship_tag": "ABX9TyMDFkOEqv8exMPOcycDe05H",
      "include_colab_link": true
    },
    "kernelspec": {
      "name": "python3",
      "display_name": "Python 3"
    },
    "language_info": {
      "name": "python"
    }
  },
  "cells": [
    {
      "cell_type": "markdown",
      "metadata": {
        "id": "view-in-github",
        "colab_type": "text"
      },
      "source": [
        "<a href=\"https://colab.research.google.com/github/Aji-Estelle/Aji-Estelle/blob/main/Seatwork1_1.ipynb\" target=\"_parent\"><img src=\"https://colab.research.google.com/assets/colab-badge.svg\" alt=\"Open In Colab\"/></a>"
      ]
    },
    {
      "cell_type": "markdown",
      "source": [
        "###Creating the grade calculator"
      ],
      "metadata": {
        "id": "BuJro9WBx27J"
      }
    },
    {
      "cell_type": "code",
      "execution_count": 33,
      "metadata": {
        "colab": {
          "base_uri": "https://localhost:8080/"
        },
        "id": "njboZecSxiIs",
        "outputId": "4c50b6c9-9eb4-4105-9658-7e8ecbb92ec1"
      },
      "outputs": [
        {
          "output_type": "stream",
          "name": "stdout",
          "text": [
            "Please enter your name: Rodge\n",
            "Enter the prelim exam grade, hands on activity, quizzes, and assignments in percentage and separated by spaces: 100 100 100 100\n",
            "\n",
            " \n",
            "The prelim grade is: 100.0\n",
            "\n",
            " \n",
            "Enter the midterm exam grade, hands on activity, quizzes, and assignments in percentage and separated by spaces: 90 90 90 90\n",
            "\n",
            " \n",
            "The midterm grade is: 93.33333333333333\n",
            "\n",
            " \n",
            "Enter the final exam grade, hands on activity, quizzes, and assignments in percentage and separated by spaces: 90 90 90 90\n",
            "\n",
            " \n",
            "Rodge , your final grade is: 91.11111111111111\n",
            "Your grade equivalent is 1.25, Superior\n"
          ]
        }
      ],
      "source": [
        "# user input is expected to be in percentage already\n",
        "# name input to print later\n",
        "name=input(\"Please enter your name: \")\n",
        "\n",
        "# function to calculate class standing\n",
        "def gradefunc(x,y,z):\n",
        "  return 0.5*x+0.3*y+0.2*z\n",
        "\n",
        "# function to calculate grade equivalent\n",
        "def equiv(x):\n",
        "  if 94 <= x <= 100:\n",
        "    return \"Your grade equivalent is 1.00, Excellent\"\n",
        "  elif 88.5 <= x <= 93.99:\n",
        "    return \"Your grade equivalent is 1.25, Superior\"\n",
        "  elif 83 <= x <= 88.49:\n",
        "    return \"Your grade equivalent is 1.50, Meritorious\"\n",
        "  elif 77.5 <= x <= 82.99:\n",
        "    return \"Your grade equivalent is 1.75, Very Good\"\n",
        "  elif 72 <= x <= 77.49:\n",
        "    return \"Your grade equivalent is 2.00, Good\"\n",
        "  elif 65.5 <= x <= 71.99:\n",
        "    return \"Your grade equivalent is 2.25, Very Satisfactory\"\n",
        "  elif 61 <= x <= 65.49:\n",
        "    return \"Your grade equivalent is 2.50, Satisfactory\"\n",
        "  elif 55.5 <= x <= 60.99:\n",
        "    return \"Your grade equivalent is 2.75, Fair\"\n",
        "  elif 50 <= x <= 55.49:\n",
        "    return \"Your grade equivalent is 3.00, Passing\"\n",
        "  else:\n",
        "    return \"Your grade equivalent is 5.00, Failed\"\n",
        "\n",
        "pe, phoa , pq, pa = map(float, (input(\"Enter the prelim exam grade, hands on activity, quizzes, and assignments in percentage and separated by spaces: \")).split()) # prelim exam input in percentage, map is used to convert it to float\n",
        "pcs = gradefunc(x=phoa,y=pq,z=pa) # calling function\n",
        "pg=0.5*pe+0.5*pcs\n",
        "print(\"\\n \") # visual declutter so each element isn't close together and different sections are separated\n",
        "print(\"The prelim grade is:\", pg) # printing the prelim grade\n",
        "print(\"\\n \")\n",
        "#same procedure as prelims\n",
        "me, mhoa , mq, ma = map(float, (input(\"Enter the midterm exam grade, hands on activity, quizzes, and assignments in percentage and separated by spaces: \")).split()) # midterms input in percentage\n",
        "mcs = gradefunc(x=mhoa,y=mq,z=ma)\n",
        "mg=(1/3)*pg + (2/3)*(0.5*mcs+0.5*me) # uses different formula from prelims\n",
        "print(\"\\n \")\n",
        "print(\"The midterm grade is:\", mg) # printing the midterm grade\n",
        "print(\"\\n \")\n",
        "# same procedure as previous code\n",
        "fe, fhoa , fq, fa = map(float, (input(\"Enter the final exam grade, hands on activity, quizzes, and assignments in percentage and separated by spaces: \")).split()) # finals input in percentage\n",
        "fcs = gradefunc(x=fhoa,y=fq,z=fa)\n",
        "fg= (1/3)*mg + (2/3)*(0.5*fe+0.5*fcs) # finals grade calculation\n",
        "\n",
        "\n",
        "\n",
        "print(\"\\n \")\n",
        "print(name, \", your final grade is:\", fg) # name print along with the final grade\n",
        "print(equiv(fg))\n",
        "\n"
      ]
    }
  ]
}